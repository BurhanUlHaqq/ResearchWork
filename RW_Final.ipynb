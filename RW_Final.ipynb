{
  "nbformat": 4,
  "nbformat_minor": 0,
  "metadata": {
    "colab": {
      "name": "Untitled0.ipynb",
      "provenance": [],
      "collapsed_sections": [],
      "authorship_tag": "ABX9TyNE6vsPc4CgIhecseqJA80Q",
      "include_colab_link": true
    },
    "kernelspec": {
      "name": "python3",
      "display_name": "Python 3"
    }
  },
  "cells": [
    {
      "cell_type": "markdown",
      "metadata": {
        "id": "view-in-github",
        "colab_type": "text"
      },
      "source": [
        "<a href=\"https://colab.research.google.com/github/BurhanUlHaqq/ResearchWork/blob/main/RW_Final.ipynb\" target=\"_parent\"><img src=\"https://colab.research.google.com/assets/colab-badge.svg\" alt=\"Open In Colab\"/></a>"
      ]
    },
    {
      "cell_type": "code",
      "metadata": {
        "colab": {
          "base_uri": "https://localhost:8080/",
          "height": 206
        },
        "id": "R7g1HDgSPwGZ",
        "outputId": "2da05927-6e6c-4166-d2bc-c472d589a0d4"
      },
      "source": [
        "import pandas as pd\r\n",
        "\r\n",
        "url = 'https://raw.githubusercontent.com/BurhanUlHaqq/ResearchWork/main/data/DatasetFinal.csv'\r\n",
        "data = pd.read_csv(url, sep=',', header=0)\r\n",
        "data.head()"
      ],
      "execution_count": 22,
      "outputs": [
        {
          "output_type": "execute_result",
          "data": {
            "text/html": [
              "<div>\n",
              "<style scoped>\n",
              "    .dataframe tbody tr th:only-of-type {\n",
              "        vertical-align: middle;\n",
              "    }\n",
              "\n",
              "    .dataframe tbody tr th {\n",
              "        vertical-align: top;\n",
              "    }\n",
              "\n",
              "    .dataframe thead th {\n",
              "        text-align: right;\n",
              "    }\n",
              "</style>\n",
              "<table border=\"1\" class=\"dataframe\">\n",
              "  <thead>\n",
              "    <tr style=\"text-align: right;\">\n",
              "      <th></th>\n",
              "      <th>Sentiments</th>\n",
              "      <th>Positive</th>\n",
              "    </tr>\n",
              "  </thead>\n",
              "  <tbody>\n",
              "    <tr>\n",
              "      <th>0</th>\n",
              "      <td>sai kha ya her kisi kay bus ki bat nhi hai lak...</td>\n",
              "      <td>1</td>\n",
              "    </tr>\n",
              "    <tr>\n",
              "      <th>1</th>\n",
              "      <td>sahi bt h</td>\n",
              "      <td>1</td>\n",
              "    </tr>\n",
              "    <tr>\n",
              "      <th>2</th>\n",
              "      <td>kya bt hai</td>\n",
              "      <td>1</td>\n",
              "    </tr>\n",
              "    <tr>\n",
              "      <th>3</th>\n",
              "      <td>wah je wah</td>\n",
              "      <td>1</td>\n",
              "    </tr>\n",
              "    <tr>\n",
              "      <th>4</th>\n",
              "      <td>are wha kaya bat hai</td>\n",
              "      <td>1</td>\n",
              "    </tr>\n",
              "  </tbody>\n",
              "</table>\n",
              "</div>"
            ],
            "text/plain": [
              "                                          Sentiments  Positive\n",
              "0  sai kha ya her kisi kay bus ki bat nhi hai lak...         1\n",
              "1                                          sahi bt h         1\n",
              "2                                         kya bt hai         1\n",
              "3                                         wah je wah         1\n",
              "4                               are wha kaya bat hai         1"
            ]
          },
          "metadata": {
            "tags": []
          },
          "execution_count": 22
        }
      ]
    },
    {
      "cell_type": "markdown",
      "metadata": {
        "id": "fMzb4z9lQlyR"
      },
      "source": [
        "Saperate Data and target cols"
      ]
    },
    {
      "cell_type": "code",
      "metadata": {
        "colab": {
          "base_uri": "https://localhost:8080/"
        },
        "id": "GMS16UctQptf",
        "outputId": "40294368-84c9-40d9-e20c-4781f046d6bf"
      },
      "source": [
        "sentiments, lable = data.Sentiments, data.Positive\r\n",
        "print(sentiments[2],' ',lable[2])"
      ],
      "execution_count": 23,
      "outputs": [
        {
          "output_type": "stream",
          "text": [
            "kya bt hai   1\n"
          ],
          "name": "stdout"
        }
      ]
    },
    {
      "cell_type": "code",
      "metadata": {
        "colab": {
          "base_uri": "https://localhost:8080/"
        },
        "id": "jxBx6CldR07H",
        "outputId": "055b329a-35da-4779-a72b-7754c42cc392"
      },
      "source": [
        "from sklearn.model_selection import train_test_split\r\n",
        "sentiment_train,sentiment_test,lable_train,label_test=train_test_split(sentiments,lable,test_size=0.2,random_state=123)\r\n",
        "# train data\r\n",
        "print(f\"The shape of training data is {sentiment_train.shape}.\")\r\n",
        "print(sentiment_train.head())\r\n",
        "# test data\r\n",
        "print(f\"The shape of testing data is {sentiment_test.shape}.\")\r\n",
        "print(sentiment_test.head())"
      ],
      "execution_count": 24,
      "outputs": [
        {
          "output_type": "stream",
          "text": [
            "The shape of training data is (9037,).\n",
            "5620    halan ke mohammed ali jinnah aur mohammed ali ...\n",
            "6991                    boht acha product he thanks daraz\n",
            "7283    kal sy patani kia hua hua ha ny forward msges ...\n",
            "2123    behtreen jesi yeh shirts yahan dikhai gai hain...\n",
            "7869                                           haar maani\n",
            "Name: Sentiments, dtype: object\n",
            "The shape of testing data is (2260,).\n",
            "2656    meri umar is waqat saal hai aur mere pas abhi ...\n",
            "6467                           tu bhi ro single hai tu bi\n",
            "3966    yahan react krnay ki baat hori hai bibi or sbs...\n",
            "10      ya mere rab tu bra kreem hy is mulk k halat pr...\n",
            "304          uncle aunty ko meri trf se topon ki salamiii\n",
            "Name: Sentiments, dtype: object\n"
          ],
          "name": "stdout"
        }
      ]
    },
    {
      "cell_type": "code",
      "metadata": {
        "id": "IGZCaNNDT0K8"
      },
      "source": [
        "from sklearn.feature_extraction.text import CountVectorizer, TfidfVectorizer\r\n",
        "vect = CountVectorizer()\r\n",
        "tf_train=vect.fit_transform(sentiment_train)  #train the vectorizer, build the vocablury\r\n",
        "tf_test=vect.transform(sentiment_test)  #get same encodings on test data as of vocabulary built"
      ],
      "execution_count": 25,
      "outputs": []
    },
    {
      "cell_type": "code",
      "metadata": {
        "id": "O3NdOCzlUBJE"
      },
      "source": [
        "tf_sentiment_test=vect.transform(sentiment_test)\r\n"
      ],
      "execution_count": 26,
      "outputs": []
    },
    {
      "cell_type": "code",
      "metadata": {
        "colab": {
          "base_uri": "https://localhost:8080/"
        },
        "id": "Gz2fjckFU596",
        "outputId": "8d88d577-8e69-4f5d-f7c6-cd38a74c572a"
      },
      "source": [
        "from sklearn.naive_bayes import MultinomialNB\r\n",
        "model = MultinomialNB()\r\n",
        "model.fit(X=tf_train,y=lable_train)"
      ],
      "execution_count": 27,
      "outputs": [
        {
          "output_type": "execute_result",
          "data": {
            "text/plain": [
              "MultinomialNB(alpha=1.0, class_prior=None, fit_prior=True)"
            ]
          },
          "metadata": {
            "tags": []
          },
          "execution_count": 27
        }
      ]
    },
    {
      "cell_type": "code",
      "metadata": {
        "id": "-OlkHKsFVh_i"
      },
      "source": [
        "expected = label_test\r\n",
        "predicted=model.predict(tf_test)"
      ],
      "execution_count": 28,
      "outputs": []
    },
    {
      "cell_type": "code",
      "metadata": {
        "colab": {
          "base_uri": "https://localhost:8080/"
        },
        "id": "QMJYID7JV06x",
        "outputId": "b7314ad9-3799-4fb8-f843-901a18510227"
      },
      "source": [
        "from sklearn import metrics\r\n",
        "\r\n",
        "print(metrics.classification_report(expected, predicted))\r\n",
        "print(metrics.confusion_matrix(expected, predicted))\r\n",
        "\r\n"
      ],
      "execution_count": 29,
      "outputs": [
        {
          "output_type": "stream",
          "text": [
            "              precision    recall  f1-score   support\n",
            "\n",
            "           0       0.73      0.76      0.75      1013\n",
            "           1       0.80      0.78      0.79      1247\n",
            "\n",
            "    accuracy                           0.77      2260\n",
            "   macro avg       0.77      0.77      0.77      2260\n",
            "weighted avg       0.77      0.77      0.77      2260\n",
            "\n",
            "[[769 244]\n",
            " [279 968]]\n"
          ],
          "name": "stdout"
        }
      ]
    },
    {
      "cell_type": "code",
      "metadata": {
        "colab": {
          "base_uri": "https://localhost:8080/",
          "height": 316
        },
        "id": "EwgKi943YiZ5",
        "outputId": "929e1d5a-7e32-4a3a-d17d-8e584a50a09e"
      },
      "source": [
        "from mlxtend.plotting import plot_confusion_matrix\r\n",
        "\r\n",
        "plot_confusion_matrix(metrics.confusion_matrix(expected, predicted))"
      ],
      "execution_count": 30,
      "outputs": [
        {
          "output_type": "execute_result",
          "data": {
            "text/plain": [
              "(<Figure size 432x288 with 1 Axes>,\n",
              " <matplotlib.axes._subplots.AxesSubplot at 0x7f160c4fd4d0>)"
            ]
          },
          "metadata": {
            "tags": []
          },
          "execution_count": 30
        },
        {
          "output_type": "display_data",
          "data": {
            "image/png": "[encoded data removed]",
            "text/plain": [
              "<Figure size 432x288 with 1 Axes>"
            ]
          },
          "metadata": {
            "tags": [],
            "needs_background": "light"
          }
        }
      ]
    },
    {
      "cell_type": "code",
      "metadata": {
        "id": "zw9isCF6Yk9e"
      },
      "source": [
        ""
      ],
      "execution_count": null,
      "outputs": []
    }
  ]
}